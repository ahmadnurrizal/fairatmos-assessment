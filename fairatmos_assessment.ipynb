{
 "cells": [
  {
   "cell_type": "code",
   "execution_count": 17,
   "metadata": {},
   "outputs": [],
   "source": [
    "# import libraries\n",
    "import pandas as pd\n",
    "import psycopg2\n",
    "import datetime\n",
    "from datetime import datetime, timedelta\n",
    "from random import randint\n",
    "import matplotlib.pyplot as plt\n",
    "import seaborn as sns"
   ]
  },
  {
   "cell_type": "code",
   "execution_count": 18,
   "metadata": {},
   "outputs": [],
   "source": [
    "# connect to database\n",
    "conn = psycopg2.connect(database = \"fairatmos_assessment\", \n",
    "                        user = \"postgres\", \n",
    "                        host= '127.0.0.1',\n",
    "                        password = \"password\",\n",
    "                        port = 5432)"
   ]
  },
  {
   "cell_type": "code",
   "execution_count": 19,
   "metadata": {},
   "outputs": [],
   "source": [
    "# Open a cursor to perform database operations\n",
    "cur = conn.cursor()\n",
    "\n",
    "query = \"\"\" CREATE TABLE IF NOT EXISTS user_table (\n",
    "            user_id SERIAL PRIMARY KEY,\n",
    "            signup_date TIMESTAMP NOT NULL)\n",
    "        \"\"\"\n",
    "\n",
    "# Execute a command: create user_table table if it doesn't exist\n",
    "cur.execute(query)\n",
    "# Make the changes to the database persistent\n",
    "conn.commit()\n",
    "# Close cursor and communication with the database\n",
    "cur.close()\n"
   ]
  },
  {
   "cell_type": "code",
   "execution_count": 20,
   "metadata": {},
   "outputs": [],
   "source": [
    "cur = conn.cursor()\n",
    "\n",
    "query = \"\"\" CREATE TABLE IF NOT EXISTS order_table (\n",
    "            order_id SERIAL PRIMARY KEY,\n",
    "            user_id INT REFERENCES user_table(user_id),\n",
    "            transaction_date TIMESTAMP)\n",
    "        \"\"\"\n",
    "\n",
    "cur.execute(query)\n",
    "\n",
    "conn.commit()\n",
    "cur.close()"
   ]
  },
  {
   "cell_type": "code",
   "execution_count": 21,
   "metadata": {},
   "outputs": [],
   "source": [
    "# insert dummy data to user_table\n",
    "cur = conn.cursor()\n",
    "start_date = datetime(2023, 1, 1)\n",
    "\n",
    "for i in range(100):\n",
    "    # insert signup_date \n",
    "    signup_date = start_date + timedelta(days=i)\n",
    "\n",
    "    # write sql statement to insert data to user_table\n",
    "    query = \"INSERT INTO user_table (signup_date) VALUES (%s)\"\n",
    "\n",
    "    cur.execute(query, (signup_date,))\n",
    "\n",
    "conn.commit()\n",
    "cur.close()"
   ]
  },
  {
   "cell_type": "code",
   "execution_count": 22,
   "metadata": {},
   "outputs": [],
   "source": [
    "# insert dummy data to order_table\n",
    "cur = conn.cursor()\n",
    "\n",
    "start_date = datetime(2023, 1, 1)\n",
    "end_date = datetime(2023, 4, 15)\n",
    "\n",
    "# Function to generate a random date within a specified range\n",
    "def random_date(start_date, end_date):\n",
    "    return start_date + timedelta(days=randint(0, (end_date - start_date).days))\n",
    "\n",
    "for i in range(100):\n",
    "    transaction_date = random_date(start_date, end_date)\n",
    "    user_id = randint(1, 100)\n",
    "    insert_query = \"INSERT INTO order_table (user_id, transaction_date) VALUES (%s, %s)\"\n",
    "    cur.execute(insert_query, (user_id, transaction_date))\n",
    "\n",
    "conn.commit()\n",
    "cur.close()"
   ]
  },
  {
   "cell_type": "markdown",
   "metadata": {},
   "source": [
    "- Monthly Signups"
   ]
  },
  {
   "cell_type": "code",
   "execution_count": 23,
   "metadata": {},
   "outputs": [],
   "source": [
    "cur = conn.cursor()\n",
    "\n",
    "# this query will return the number of users who signed up in each month\n",
    "query = \"\"\" SELECT TO_CHAR(signup_date, 'YYYY-MM') AS signup_month, COUNT(*) AS signup_count\n",
    "            FROM user_table\n",
    "            GROUP BY TO_CHAR(signup_date, 'YYYY-MM')\n",
    "            ORDER BY TO_CHAR(signup_date, 'YYYY-MM');\n",
    "        \"\"\"\n",
    "\n",
    "# Execute the SQL query\n",
    "cur.execute(query)\n",
    "\n",
    "# Fetch all the rows as a list of tuples\n",
    "result = cur.fetchall()\n",
    "conn.commit()\n",
    "cur.close()"
   ]
  },
  {
   "cell_type": "code",
   "execution_count": 24,
   "metadata": {},
   "outputs": [
    {
     "data": {
      "text/html": [
       "<div>\n",
       "<style scoped>\n",
       "    .dataframe tbody tr th:only-of-type {\n",
       "        vertical-align: middle;\n",
       "    }\n",
       "\n",
       "    .dataframe tbody tr th {\n",
       "        vertical-align: top;\n",
       "    }\n",
       "\n",
       "    .dataframe thead th {\n",
       "        text-align: right;\n",
       "    }\n",
       "</style>\n",
       "<table border=\"1\" class=\"dataframe\">\n",
       "  <thead>\n",
       "    <tr style=\"text-align: right;\">\n",
       "      <th></th>\n",
       "      <th>signup_month</th>\n",
       "      <th>signup_count</th>\n",
       "    </tr>\n",
       "  </thead>\n",
       "  <tbody>\n",
       "    <tr>\n",
       "      <th>0</th>\n",
       "      <td>2023-01</td>\n",
       "      <td>310</td>\n",
       "    </tr>\n",
       "    <tr>\n",
       "      <th>1</th>\n",
       "      <td>2023-02</td>\n",
       "      <td>280</td>\n",
       "    </tr>\n",
       "    <tr>\n",
       "      <th>2</th>\n",
       "      <td>2023-03</td>\n",
       "      <td>310</td>\n",
       "    </tr>\n",
       "    <tr>\n",
       "      <th>3</th>\n",
       "      <td>2023-04</td>\n",
       "      <td>100</td>\n",
       "    </tr>\n",
       "  </tbody>\n",
       "</table>\n",
       "</div>"
      ],
      "text/plain": [
       "  signup_month  signup_count\n",
       "0      2023-01           310\n",
       "1      2023-02           280\n",
       "2      2023-03           310\n",
       "3      2023-04           100"
      ]
     },
     "execution_count": 24,
     "metadata": {},
     "output_type": "execute_result"
    }
   ],
   "source": [
    "# Convert into DataFrame\n",
    "user_df = pd.DataFrame(result, columns=['signup_month', 'signup_count'])\n",
    "user_df"
   ]
  },
  {
   "cell_type": "code",
   "execution_count": 25,
   "metadata": {},
   "outputs": [],
   "source": [
    "# convert format of signup_month to month name\n",
    "user_df['signup_month'] = pd.to_datetime(user_df['signup_month'], format='%Y-%m').dt.month_name()"
   ]
  },
  {
   "cell_type": "code",
   "execution_count": 26,
   "metadata": {},
   "outputs": [
    {
     "data": {
      "image/png": "[encoded data removed]",
      "text/plain": [
       "<Figure size 1200x600 with 1 Axes>"
      ]
     },
     "metadata": {},
     "output_type": "display_data"
    }
   ],
   "source": [
    "# create a bar plot \n",
    "sns.set_style('whitegrid')\n",
    "plt.figure(figsize=(12, 6))\n",
    "plt.title('Monthly User Signup in 2023')\n",
    "\n",
    "ax = sns.barplot(x='signup_month', y='signup_count', data=user_df)\n",
    "\n",
    "# add labels to each bar\n",
    "for p in ax.patches:\n",
    "    ax.annotate(f'{int(p.get_height())}', (p.get_x() + p.get_width() / 2., p.get_height()),\n",
    "                ha='center', va='center', fontsize=10, color='black', xytext=(0, 10),\n",
    "                textcoords='offset points')\n",
    "\n",
    "plt.xlabel('Month')\n",
    "plt.ylabel('User Signups')\n",
    "plt.show()\n"
   ]
  },
  {
   "cell_type": "markdown",
   "metadata": {},
   "source": [
    "- Monthly Conversion"
   ]
  },
  {
   "cell_type": "code",
   "execution_count": 27,
   "metadata": {},
   "outputs": [],
   "source": [
    "cur = conn.cursor()\n",
    "\n",
    "# this query will return conversion rate of each month\n",
    "query = \"\"\"\n",
    "WITH q1 AS (\n",
    "    SELECT\n",
    "        TO_CHAR(u.signup_date, 'YYYY-MM') AS month,\n",
    "        COUNT(u.user_id) AS user_count\n",
    "    FROM user_table u\n",
    "    RIGHT JOIN order_table o ON u.user_id = o.user_id\n",
    "    WHERE TO_CHAR(u.signup_date, 'YYYY-MM') = TO_CHAR(o.transaction_date, 'YYYY-MM')\n",
    "    GROUP BY month\n",
    "),\n",
    "q2 AS (\n",
    "    SELECT TO_CHAR(signup_date, 'YYYY-MM') AS month, COUNT(DISTINCT user_id) AS user_count\n",
    "    FROM user_table\n",
    "    GROUP BY TO_CHAR(signup_date, 'YYYY-MM')\n",
    ")\n",
    "SELECT\n",
    "    q1.month,\n",
    "    CASE\n",
    "        WHEN COALESCE(q1.user_count, 0) = 0 THEN 0.00\n",
    "        ELSE (CAST(q1.user_count AS numeric) / CAST(q2.user_count AS numeric) * 100)::numeric(10,2)\n",
    "    END AS conversion_rate\n",
    "FROM q1\n",
    "FULL JOIN q2 ON q1.month = q2.month\n",
    "ORDER BY q1.month;\n",
    "\"\"\"\n",
    "\n",
    "cur.execute(query)\n",
    "\n",
    "result = cur.fetchall()\n",
    "\n",
    "conn.commit()\n",
    "cur.close()"
   ]
  },
  {
   "cell_type": "code",
   "execution_count": 28,
   "metadata": {},
   "outputs": [
    {
     "data": {
      "text/html": [
       "<div>\n",
       "<style scoped>\n",
       "    .dataframe tbody tr th:only-of-type {\n",
       "        vertical-align: middle;\n",
       "    }\n",
       "\n",
       "    .dataframe tbody tr th {\n",
       "        vertical-align: top;\n",
       "    }\n",
       "\n",
       "    .dataframe thead th {\n",
       "        text-align: right;\n",
       "    }\n",
       "</style>\n",
       "<table border=\"1\" class=\"dataframe\">\n",
       "  <thead>\n",
       "    <tr style=\"text-align: right;\">\n",
       "      <th></th>\n",
       "      <th>month</th>\n",
       "      <th>conversion_rate(%)</th>\n",
       "    </tr>\n",
       "  </thead>\n",
       "  <tbody>\n",
       "    <tr>\n",
       "      <th>0</th>\n",
       "      <td>January</td>\n",
       "      <td>33.23</td>\n",
       "    </tr>\n",
       "    <tr>\n",
       "      <th>1</th>\n",
       "      <td>February</td>\n",
       "      <td>22.86</td>\n",
       "    </tr>\n",
       "    <tr>\n",
       "      <th>2</th>\n",
       "      <td>March</td>\n",
       "      <td>31.94</td>\n",
       "    </tr>\n",
       "    <tr>\n",
       "      <th>3</th>\n",
       "      <td>April</td>\n",
       "      <td>15.00</td>\n",
       "    </tr>\n",
       "  </tbody>\n",
       "</table>\n",
       "</div>"
      ],
      "text/plain": [
       "      month conversion_rate(%)\n",
       "0   January              33.23\n",
       "1  February              22.86\n",
       "2     March              31.94\n",
       "3     April              15.00"
      ]
     },
     "execution_count": 28,
     "metadata": {},
     "output_type": "execute_result"
    }
   ],
   "source": [
    "merged_df = pd.DataFrame(result, columns=['month','conversion_rate(%)'])\n",
    "# convert format of signup_month to month name\n",
    "merged_df['month'] = pd.to_datetime(merged_df['month'], format='%Y-%m').dt.month_name()\n",
    "merged_df"
   ]
  },
  {
   "cell_type": "code",
   "execution_count": 29,
   "metadata": {},
   "outputs": [
    {
     "data": {
      "image/png": "[encoded data removed]",
      "text/plain": [
       "<Figure size 1200x600 with 1 Axes>"
      ]
     },
     "metadata": {},
     "output_type": "display_data"
    }
   ],
   "source": [
    "sns.set_style('whitegrid')\n",
    "plt.figure(figsize=(12, 6))\n",
    "plt.title('Monthly Conversion Rate in 2023')\n",
    "\n",
    "ax = sns.barplot(x='month', y='conversion_rate(%)', data=merged_df)\n",
    "\n",
    "for p in ax.patches:\n",
    "    ax.annotate(f'{p.get_height():.2f}%', (p.get_x() + p.get_width() / 2., p.get_height()),\n",
    "                ha='center', va='center', fontsize=10, color='black', xytext=(0, 10),\n",
    "                textcoords='offset points')\n",
    "\n",
    "plt.xlabel('Month')\n",
    "plt.ylabel('Conversion Rate')\n",
    "plt.show()\n"
   ]
  }
 ],
 "metadata": {
  "kernelspec": {
   "display_name": "Python 3",
   "language": "python",
   "name": "python3"
  },
  "language_info": {
   "codemirror_mode": {
    "name": "ipython",
    "version": 3
   },
   "file_extension": ".py",
   "mimetype": "text/x-python",
   "name": "python",
   "nbconvert_exporter": "python",
   "pygments_lexer": "ipython3",
   "version": "3.10.7"
  }
 },
 "nbformat": 4,
 "nbformat_minor": 2
}
